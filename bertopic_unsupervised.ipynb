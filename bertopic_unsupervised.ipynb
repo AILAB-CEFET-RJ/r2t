{
 "cells": [
  {
   "cell_type": "code",
   "execution_count": null,
   "id": "46bc9ec7-5aa8-433c-9712-10ef101007f8",
   "metadata": {
    "scrolled": true,
    "tags": []
   },
   "outputs": [],
   "source": [
    "!pip install bertopic[flair,gensim,spacy,use]"
   ]
  },
  {
   "cell_type": "code",
   "execution_count": null,
   "id": "5efdcade-f0d0-4db8-a5a4-035d90fde762",
   "metadata": {},
   "outputs": [],
   "source": [
    "!pip install bertopic[vision]"
   ]
  },
  {
   "cell_type": "code",
   "execution_count": null,
   "id": "f7bd912e-676c-406e-97a8-29862da27d21",
   "metadata": {},
   "outputs": [],
   "source": [
    "!pip install rank_bm25"
   ]
  },
  {
   "cell_type": "code",
   "execution_count": null,
   "id": "f299107e-5af2-4195-a8b0-0efc6084ff5b",
   "metadata": {},
   "outputs": [],
   "source": [
    "from bertopic import BERTopic\n",
    "import openai\n",
    "from bertopic.representation import OpenAI\n",
    "from sentence_transformers import SentenceTransformer, util\n",
    "from sklearn.feature_extraction.text import TfidfVectorizer\n",
    "import pandas as pd\n",
    "import csv\n",
    "import re\n",
    "import nltk\n",
    "import string\n",
    "from rank_bm25 import BM25Okapi"
   ]
  },
  {
   "cell_type": "code",
   "execution_count": null,
   "id": "02c9eeaf-9f0f-40ac-8538-899e6a9364ff",
   "metadata": {},
   "outputs": [],
   "source": [
    "nltk.download('stopwords')\n",
    "nltk.download('punkt')\n",
    "from nltk.corpus import stopwords"
   ]
  },
  {
   "cell_type": "code",
   "execution_count": null,
   "id": "5b401921-e817-4ba3-9fc4-7bc9cb67d228",
   "metadata": {},
   "outputs": [],
   "source": [
    "\n",
    "def remove_punctuation(text):\n",
    "    translator = str.maketrans('', '', string.punctuation)\n",
    "    text_without_punctuation = text.translate(translator)\n",
    "    return text_without_punctuation"
   ]
  },
  {
   "cell_type": "code",
   "execution_count": null,
   "id": "6558f965-d51b-4b4f-a25e-372fcf724cac",
   "metadata": {},
   "outputs": [],
   "source": [
    "def remove_stopwords(text):\n",
    "    stop_words = set(stopwords.words('portuguese'))\n",
    "    stop_words.update([\"nº\",\"cep\",\"telefone\",\"rua\",\"avenida\",\"endereço\",\"fax\",\"fones\"])\n",
    "    stop_words.update([\"egrégia\",\"egrégio\",\"eg\",\"e.g.\"])\n",
    "    stop_words.update([\"copy\",\"reg\",\"trade\",\"ldquo\",\"rdquo\",\"lsquo\",\"rsquo\",\"bull\",\"middot\",\"sdot\",\"ndash\",\"mdash\",\"cent\",\"pound\",\"euro\",\"ne\",\"frac12\",\"frac14\",\"frac34\",\"deg\",\"larr\",\"rarr\",\"uarr\",\"darr\",\"egrave\",\"eacute\",\"ccedil\",\"hellip\"])\n",
    "    tokens = nltk.word_tokenize(text, language='portuguese')\n",
    "    tokens_cleaned = [token for token in tokens if token not in stop_words]\n",
    "    text_cleaned = ' '.join(tokens_cleaned)\n",
    "    return text_cleaned"
   ]
  },
  {
   "cell_type": "code",
   "execution_count": null,
   "id": "46e1f6f2-9420-43a7-a871-d371f05ef609",
   "metadata": {},
   "outputs": [],
   "source": [
    "def clean_text(doc):\n",
    "    final_doc = \"\"\n",
    "    doc = doc.lower()\n",
    "    #Tenta identificar parte relevante do documento\n",
    "    match = re.search(r' cabimento[^\\n]*',doc)\n",
    "    #Palavras irrelevantes\n",
    "    match_pattern = [r'\\b_+(?:\\d+|[a-zA-Z]+)?\\b',r'https?://\\S+',r'www\\.\\S+',r'\\S+@\\S+',r'^\\d{3}.\\d{3}.\\d{3}-\\d{2}$',r'^\\d{2}\\.\\d{3}\\.\\d{3}\\/\\d{4}\\-\\d{2}$',r'\\d{2}/\\d{2}/\\d{4}[ ,]',r'procuradoria regional (federal|da união) da \\d+[ªa] região',r'tribunal regional federal[ da] \\d+[ªa] região',r'advocacia[ -]geral da união',r'(excelentíssimo|senhor|vice-presidente|desembargador|\\(a\\))',r'procuradoria[ -]geral federal',r'escritório de advocacia',r'[ superior] tribunal de justiça',r'supremo tribunal federal',r'fones',r'fax']\n",
    "    subs = [''] * len(match_pattern)\n",
    "    if match:\n",
    "        start = match.start()\n",
    "        final_doc = doc[start:]\n",
    "    else:\n",
    "        final_doc = doc\n",
    "    for match_pattern, subs in zip(match_pattern,subs):\n",
    "        final_doc = re.sub(match_pattern,subs,final_doc)\n",
    "    final_doc = remove_stopwords(final_doc)\n",
    "        \n",
    "    return final_doc\n",
    "    "
   ]
  },
  {
   "cell_type": "code",
   "execution_count": null,
   "id": "58e61516-109a-4dbe-9d12-e9ce86a0b4f6",
   "metadata": {},
   "outputs": [],
   "source": [
    "def remove_stopwords_tfidf(text,stop_words):\n",
    "    tokens = nltk.word_tokenize(text, language='portuguese')\n",
    "    tokens_cleaned = [token for token in tokens if token not in stop_words]\n",
    "    text_cleaned = ' '.join(tokens_cleaned)\n",
    "    return text_cleaned"
   ]
  },
  {
   "cell_type": "markdown",
   "id": "2bb4adfb-33a4-403c-a669-16afdc582699",
   "metadata": {
    "id": "ho2P0r4xD0MC"
   },
   "source": [
    "## **Lê recursos a partir do dataset e faz limpeza inicial dos textos**"
   ]
  },
  {
   "cell_type": "code",
   "execution_count": null,
   "id": "42559cf5-68b3-4240-8d85-f641afbecbc9",
   "metadata": {},
   "outputs": [],
   "source": [
    "#Lê recursos especiais\n",
    "resp = pd.read_csv('REsp_completo.csv')\n",
    "\n",
    "docs = []\n",
    "num_cadastrado = []\n",
    "indice = []\n",
    "clean = True\n",
    "\n",
    "for i, linha in resp.iterrows():\n",
    "  tipo = type(linha['recurso'])\n",
    "  try:\n",
    "    #tratamento necessário, textos estavam sendo identificados como float\n",
    "    if (tipo == str):\n",
    "      if clean:\n",
    "          doc_cleaned = clean_text(linha['recurso'])\n",
    "          num_cadastrado.append(int(linha['num_tema_cadastrado']))\n",
    "          docs.append(doc_cleaned)\n",
    "          indice.append(i)     \n",
    "      else:\n",
    "          num_cadastrado.append(int(linha['num_tema_cadastrado']))\n",
    "          docs.append(linha['recurso'])\n",
    "          indice.append(i)\n",
    "      \n",
    "  except Exception as erro:\n",
    "    print(f\"Erro ao capturar numero de tema cadastrado {i}\")\n",
    "    continue"
   ]
  },
  {
   "cell_type": "markdown",
   "id": "690f4742-9cea-4105-ac2d-e8ff9fe17b29",
   "metadata": {
    "id": "ho2P0r4xD0MC"
   },
   "source": [
    "## **Cria matriz tf-idf e a partir de um limite estabelecido, cria um conjunto de stopwords e faz nova limpeza dos textos antes de inicar a modelagem de topicos**"
   ]
  },
  {
   "cell_type": "code",
   "execution_count": null,
   "id": "67041e64-38e0-4b8a-8571-23d065e63f88",
   "metadata": {},
   "outputs": [],
   "source": [
    "vectorizer = TfidfVectorizer()\n",
    "tfidf_matrix = vectorizer.fit_transform(docs)\n",
    "\n",
    "vocab = vectorizer.get_feature_names_out()\n",
    "\n",
    "df_tfidf = pd.DataFrame(tfidf_matrix.toarray(), columns=vocab)\n",
    "\n",
    "# limite para o valor de TF-IDF\n",
    "limite_tfidf = 0.005\n",
    "\n",
    "# Encontra as palavras com TF-IDF inferior ao limite em todos os registros\n",
    "inferior_tfidf_words_all = df_tfidf.columns[df_tfidf.lt(limite_tfidf).all()]\n",
    "\n",
    "stopwords_list = inferior_tfidf_words_all.tolist()\n",
    "\n",
    "for i in range(len(docs)):\n",
    "    docs[i]=remove_stopwords_tfidf(docs[i],stopwords_list)"
   ]
  },
  {
   "cell_type": "code",
   "execution_count": null,
   "id": "e6f92cf3-c66d-4cfb-9543-660c55b67749",
   "metadata": {},
   "outputs": [],
   "source": [
    "#print(docs[0])"
   ]
  },
  {
   "cell_type": "code",
   "execution_count": null,
   "id": "fbfa8c3a-c553-4eb1-93e3-7d8e49c0009d",
   "metadata": {},
   "outputs": [],
   "source": [
    "print(stopwords_list)"
   ]
  },
  {
   "cell_type": "code",
   "execution_count": null,
   "id": "53ce903b-2b56-4ea2-8c06-223cc69fcb8c",
   "metadata": {},
   "outputs": [],
   "source": [
    "#Cria lista de temas apartir de arquivo\n",
    "temas_repetitivos_eproc = pd.read_csv('temas_repetitivos.csv', sep=',' )\n",
    "temas = temas_repetitivos_eproc[['tema','num_tema_cadastrado']].copy()\n",
    "temas.columns = ['texto','numTema']\n",
    "list_temas = list(temas.itertuples(index=False, name=None))"
   ]
  },
  {
   "cell_type": "code",
   "execution_count": null,
   "id": "be454dce-fe91-4e1b-bd7c-da8f42494b84",
   "metadata": {},
   "outputs": [],
   "source": [
    "temas_seed_list = []\n",
    "temas_seed = temas_repetitivos_eproc[['tema']].copy()\n",
    "temas_seed.columns = ['texto']\n",
    "for indice,linha in temas_seed.iterrows():\n",
    "    seed = clean_text(linha[0])\n",
    "    seed = remove_punctuation(seed)\n",
    "    temas_seed_list.append(seed.split())\n",
    "\n"
   ]
  },
  {
   "cell_type": "code",
   "execution_count": null,
   "id": "9e02bee6-a97d-437f-ad9e-bbab31565d83",
   "metadata": {},
   "outputs": [],
   "source": [
    "#print(temas_seed_list)"
   ]
  },
  {
   "cell_type": "code",
   "execution_count": null,
   "id": "064a2e3a-b683-4cf0-9ed5-f6320b2c2c9f",
   "metadata": {},
   "outputs": [],
   "source": [
    "\n",
    "len(docs)\n",
    "#print(docs[470])"
   ]
  },
  {
   "cell_type": "code",
   "execution_count": null,
   "id": "b99f0a64-dfcd-49dd-b666-e0f3f4f32faf",
   "metadata": {},
   "outputs": [],
   "source": [
    "len(num_cadastrado)"
   ]
  },
  {
   "cell_type": "code",
   "execution_count": null,
   "id": "5c461af8-886c-4a00-8396-595885041764",
   "metadata": {},
   "outputs": [],
   "source": [
    "#Carrega modelo pré-treinado pra criar embeddings dos textos \n",
    "#Modelo do bertopic não estava gerando corretamente topicos em portugues estava excluindo letras acentuadas e cedilha\n",
    "sentence_model = SentenceTransformer('distiluse-base-multilingual-cased-v1')\n",
    "topic_model = BERTopic(embedding_model=sentence_model,top_n_words=13, seed_topic_list=temas_seed_list)\n",
    "topics, probs = topic_model.fit_transform(docs)"
   ]
  },
  {
   "cell_type": "code",
   "execution_count": null,
   "id": "4cd4b139-2ca1-4b04-9de7-8c8486c52ce7",
   "metadata": {},
   "outputs": [],
   "source": []
  },
  {
   "cell_type": "code",
   "execution_count": null,
   "id": "02a998a3-9b2a-405a-866e-5ea7d6b1ea27",
   "metadata": {},
   "outputs": [],
   "source": [
    "#Verifica saida do SBERT\n",
    "#embeddings = sentence_model.encode(docs)\n",
    "#iteracoes = 1\n"
   ]
  },
  {
   "cell_type": "code",
   "execution_count": 43,
   "id": "afab7b7f-c291-4325-a7f6-18edd71e7fb4",
   "metadata": {},
   "outputs": [
    {
     "name": "stdout",
     "output_type": "stream",
     "text": [
      "Sentence: cabimento recurso análise autos , verifica-se : ) acórdão recorrido julgamento tribunal estadual ; b ) acórdão caminhou , data vênia , sentido contrário lei federal : afron- tando-lhe , contradizendo-lhe negando-lhe vigência ; c ) acórdão recorrido deu interpretação divergente caso análogo analisado pel estado paulo mato grosso sul , julgamento recurso apelação 1034016-33.2017.8.26.0562 agravo instrumento 1414475-39.2018.8.12.0000 - docs . anexos . posto , luz artigo 105 , iii , alínea ? ? ? c ? , cf , , artigo 1.029 , ii , novo cpc , cabível presente recurso especial alcançar fim desejado , : reforma acórdão reconhecer ilegitimidade banco brasil responder atuali- zação valores relacionados fundo pasep , extinguindo-se ação , resolução mé- rito , termos artigo 475 , vi código processo civil . prejudicial mérito : prescrição quinquenal obediência princípio eventualidade , considerando remota hipótese deferimento pedido autoral , requer , logo , condenação , tão somente , relativa últi- mos cinco anos , tendo vista plenário d. declarou inconstitu- cionalidade art . 23 , § 5º , lei 8.036/90 , previa prescrição trintenária perquirir verbas fundiárias , aqui utilizada base princípio simetria , vejamos : recurso extraordinário . direito trabalho . fundo garantia tempo serviço ( fgts ) . cobrança valores pagos . prazo prescricional . prescrição quinquenal . art . 7º , xxix , constituição . superação entendimento anterior sobre prescrição trintenária . inconstitucionalidade arts . 23 , § 5º , lei 8.036/90 55 regulamento fgts aprovado decreto 99.684/90 . segurança jurídica . necessidade modulação efeitos decisão . art . 27 lei 9.868/99 . declaração inconstitucionalidade efeitos ex nunc . recurso extraordinário página 5 17 nega provimento. ? ( stf , pleno , are 709.212/df , rel . min . gilmar mendes , j . 13.11.2014 ) . vez , superio , julgamento recurso espe- cial 1.205.277 ? pb , sob rito recursos repetitivos , concluiu : ? cinco anos prazo prescricional ação promovida contra união federal titulares contas vinculadas pis/pasep visando cobrança diferenças correção monetária incidente sobre saldo referidas contas , termos art . 1º decreto-lei 20.910/32 ? : processual civil . recurso especial . fundo pis/pasep . diferença correção monetária . demanda . prazo prescricional quinquenal . ( art . 1º decreto 20.910/32 ) . 1. cinco anos prazo prescricional ação promovida contra união federal titulares contas vinculadas pis/pasep visando cobrança diferenças correção monetária sobre saldo referidas contas , termos art . 1º decreto-lei 20.910/32 . precedentes . 2. recurso especial dá provimento . acórdão sujeito regime art . 543-c cpc resolução stj 08/08 . ( resp 1205277/pb , rel . ministro teori albino zavascki , primeira seção , julgado dje 01/08/2012 ) embora acórdão proferido sob égide procedimento recursos repe- titivos ter consignado , forma expressa , termo inicial prazo prescricional , expressa menção agrg ag 848.861/sp , 2ª turma , relatoria ministro herman benjamin , , vez , fixa termo inicial prazo prescricional sendo data deixou feito credita- mento última diferença pleiteada . portanto , termo inicial correspondente data último depó- sito , ocorreu 1988. nesta mesma toada vem posicionando tribunais federação : recurso inominado . consumidor . expurgos inflacionários . ação discute correção monetária contas vinculadas pis/pasep . banco brasil mero depositário valores existentes título pasep . ilegitimidade banco brasil figurar polo passivo reconhecida ofício . entedimento sedimentado jurisprudência pá- tria . sentença reformada extinguir ação resolução mé- rito . trata-se recurso inominado interposto face sentença prolatada seguinte dispositivo ora transcrevo in verbis : assim , ante exposto tudo autos consta , acolho preliminar prescrição pretensões autorais , fundamento art . 487 , inciso ii , código processo civil , extinguir queixa proposta cosme trindade santos contra banco brasil página 6 17 s/a , julgamento mérito . custas honorários forma lei 9099/95 . p.ri . presentes condições admissibilidade recurso , conheço . ( tjba , recurso inominado 0156583-05.2017.8.05.0001 , relator : isabela kruschewsky pedreira silva , publicado : g.n ) tributário . pis/pasep . legitimidade passiva união . ação cobrança . expurgos inflacionários . prazo prescricional quinquenal . art . 1º decreto 20.910/32 . 1. ação inicialmente ajuizada face banco brasil jus- tiça federal declarou incompetente determinando remessa autos justiça estadual . sede julgamento agravo instrumento , interposto justiça estadual , decidido tratar-se competência justiça federal união federal gestora recursos pis/pasep , razão autos retor- naram 5ª vara cível justiça federal paulo . 2. fls . 117 parte autora requereu citação banco brasil conselho di- retor fundo participação pis/pasep . fls . 172 determinada citação união federal , tendo vista possuir conselho diretor fundo partici- pação pis/pasep personalidade jurídica fls . 178 , união fede- ral citada . 3. embora legislação discipline prazo específico exercício pretensão fundamento relação jurídica obrigacional titulares con- tas fundo pis/pasep ( diferenças correção monetária ) órgão responsável gestão , jurisprudência , acerca tema , encontra-se consolidada sen- tido sujeita prazo prescrição quinquenal , termos artigo 1º decreto 20.910/32 . 4. caso comento , ação ajuizada contra banco brasil somente união passou integrar demanda polo passivo . autores requerem recebimento diferença apurada índices correção monetária aplicados saldo conta individual pis/pasep anos 1970 1994 . 5. embora presente demanda sido proposta 1996 , proposta contra parte ilegítima , tendo sido , portanto , interrompida prescrição . somente união citada compor lide considerando pedido refere-se período 1970 1996 , rigor reconhecimento prescrição termos r. sentença 6. agravos retidos conhecidos . apelo desprovido . ( trf3 . apelação cível n . 0039989-66.1996.4.03.6100 , paulo , 4ª turma , relator : des . fed . marcelo saraiva , j : p : 16/02/2017 ) tendo vista distribuição cotas pasep vigorou 1988 , eventual recolhimento valores união federal poderia reclamado quinquênio seguinte último página 7 17 depósito . tendo vista , promulgação constituição federal 1988 descabem novos depósitos , somente 1993 poderia proposta ação reclamando eventuais calores creditados . assim , rigor reconhecimento prescrição caso posto tela , presente demanda ajuizada tão somente 29/04/2019 . subsidiariamente , caso aplicação princípio actio nata , , considerado data conhecimento dano ameaça direito tutelado momento nasce pretensão deduzir juízo , cabe banco recorrente tecer algumas considerações . entendimento cotista toma conhecimento saldo irrisório tão somente disponibilizado extrato instituição financeira , contudo , consignar caso discussão parte recorrida efetuou saque cotas aposentadoria/reforma remunerada/falecimento 24.05.2011 , , 10 anos ajuizamento ação , , mesma recebeu quantia supostamente irrisória tão somente ano 2019 ajuizou ação visando recebimento valor devidamente corrigido . nesse sentido : agravo instrumento . processo civil . pasep ? programa formação patrimônio servidor público . administração valores vertidos união . correção monetária . legitimidade banco brasil . denunciação lide . afastada . competência justiça estadual . súmula 508 . prescrição decenal . ocorrência . relação trato sucessivo . termo inicial . teoria actio nata . data disponibilização numerário . 1. banco brasil parte legítima figurar polo passivo ações cuja causa pedir refere unicamente incorreta atualização depósitos efetuados união título pasep desfalque sofrido conta individual servidora decorrência saques supostamente indevidos . 2. acordo súmula 508 supremo tribunal federal , compete justiça estadual , ambas instâncias , processar julgar causas parte banco brasil s.a .. 3. ações reparação danos materiais decorrentes ato ilícito praticado através má gestão recursos pasep repassados união custodiados banco brasil , aplica- prazo prescricional 10 ( dez ) anos , previsto art . 205 código civil . jurisprudência oitava turma cível . ressalva relator . 4. recurso conhecido provido . ( agravo instrumento 0712642-94.2020.8.07.0000 ? relator : eustaquio castro ? 08ª turma cível ? tj/dft ? julgado 22/07/2020 ) página 8 17 deste modo , considerando recebimento cotas parte apelada , momento realmente sabia saldo recepcionado , aplicação princípio actio in nata , caso tela , aplica partir saque disponibilização extrato , devendo , pois , reconhecida prescrição direto parte recorrida sobre eventual ressarcimento . ad argumentandum tantum , caso entendimento vossas excelências , sendo afastada aplicação código defesa consumidor , razão pasep produto bancário oferecido banco recorrente , requer-se aplicação prescrição trienal saques rendimentos tidos suposto desfalque , prevista código civil . 2.1 - admissibilidade presente recurso termos art . 105 , iii alínea ? ? ( violação artigo 485 , inciso vi artigo 17 código processo civil , art . 4-a lei complementar 26/1975 , bem artigos 07º 10º decreto 4.751/2003 ) alínea ? c ? ( dissenso jurisprudencial constituição federal ) v. acórdão recorrido violou dispositivos legais motivando , desta forma , subsunção decisão nele contida preceitos daquela contida permissivo constitucional invocado . cumpre salientar presente recurso tempestivo , adequado , devida- mente preparado prequestionado . consoante disposto artigo 105 , ii alínea ? ? , constituição federal , ad- missível recurso especial v. acórdão contrariar tratado lei federal , negar-lhes vi- gência . assim , tem-se presente recurso especial fundamento artigo 105 , inciso iii , alínea ? ? permissivo constitucional frontalmente violados ferindo , assim , artigo 485 , inciso vi artigo 17 código processo civil , artigo 4-a lei complementar oportuno ressaltar presente recurso esbarra súmula 7 stj , implica reexame prova , medida flagrante violação ferindo , assim , artigo 485 , inciso vi artigo 17 código processo civil , artigo 4-a lei complementar posto , rigor conhecido final totalmente provido presente recurso especial , medida direito . 2.3 - prequestionamento exige-se conhecimento recurso especial matéria sido devida- mente prequestionada tribunal ? quo ? . página 9 17 toda discussão cinge-se fato saque realizado conta pasep administrada banco brasil , alegando beneficiário saldo irrisório , contudo , responsabilidade instituição financeira limita-se atos mero arrecadador ingerência sobre índices atualização fixados conselho diretor , contrário abordado acórdão questionado , fe- rindo , assim , artigo 485 , inciso vi artigo 17 código processo civil , artigo 4-a lei com- plementar 26/1975 , bem arts .. 7º , §6º 10º , parágrafo único decreto lei 4.751/2003 ( revogado decreto lei 9978/2019 ) . conforme verifica autos , requisito prequestionamento devida- mente cumprido , eis todos artigos lei tidos violados constaram acórdão guerreado . 3- mérito recursal 3.1 - violação artigos 485 , inciso vi c.c artigos 17º legislação processual civil ressalta-se resta nítida ausência pressupostos básicos desenvolvimento regularidade processual demanda posta apreciação desta colenda corte especial , vista nítida impossibilidade jurídica pedido aventado autos , ensejando carência ação parte parte recorrida , entidade bancária recorrente parte ilegítima figurar polo passivo presente causa . cumpre salientar cabe banco recorrente realizar atualização conformidade pretensão parte recorrida , tendo vista obedece parâmetros ditados união federal . demanda versa acerca alegação recorrida depositados valores correções . contudo , parte recorrida movimenta máquina judiciário sanado falta , aparada inércia buscar benefício pode ocorrer . termos artigo 17 cpc , propor ação ? autora ? deverá ter interesse agir . entenda-se , interesse agir , fato irregularidade praticada réu contra regras contratuais , ocorreu momento . interesse agir , pois , secundário , instrumental pressupõe interesse material . recorrida prova último , obviamente falta interesse agir , porquanto provimento jurisdicional pleiteado adequado trará utilidade prática partes . demais argumentos suficientes invocar prestação jurisdicional . ingressou , recorrida , om presente demanda requerendo indenização danos materiais danos morais razão valores depositados conta pasep , contudo , entende página 10 17 valor atualizado apontado conta indevido , alegando suposto desvio parte banco recorrido . contudo , consoante exaustivamente debatido autos , reponsabili- dade banco brasil ocorrido . primeiramente porque atos ocorridos fogem capacidade controle recor- rente , vista ações discute correção monetária contas vinculadas pis/pasep parte passiva deve composta , unicamente , união federal , eis cabe ente reali- zar depósitos proceder devida estipulação correção monetária , termos art . 7° , decreto n° 4.751/2003 , conforme cabalmente demonstrado anteriormente . nobre ministro relator ante flagrante ilegitimidade desta instituição financeira , bem necessidade permanência união federal lide , resta clara necessidade manutenção autos justiça federal . justiça federal competente processar julgar ações refere sa- ques , retiradas pagamento pasep . tais ações referem abordagem relação trabalho . ficou decidido stj conflito competência 3.149-6 ? rj ? ( . 92.0014216-8 ) relatoria exce- lentíssimo ministro josé jesus filho . ainda , artigo 109 constituição federal dispõe quanto competência justiça federal causas união figurar ré : art . 109. juízes federais compete processar julgar : i - causas união , entidade autárquica empresa pública federal interessadas condição autoras , rés , assistentes oponentes , exceto falência , acidentes trabalho sujeitas justiça eleitoral justiça trabalho ; corroborando exposto acima , vejamos decisões egrégios tribunais justiça : agravo instrumento ? ação obrigação fazer ? resgate va- lor existente pasep titular ? competência justiça federal ? recurso nega provimento . competência processar jul- gar demanda relativa resgate valor depositado pasep titular justiça federal , acordo artigo 109 , i , cf. ( tj-ms ? ai : 14144753920188120000 ms 1414475-39.2019.8.12.0000 , relator : des . luiz tadeu barbosa silva , data julgamento : 5ª câmara cí- vel , data publicação : 31/01/2019 ) . ( grifo ) página 11 17 apelação . pretensão pagamento diferenças remuneração pis/pasep , decorrentes aplicação índices correção monetária . compen- tência . gestão fundo compete banco brasil , conselho diretor subordinado ministério fazenda . fundo representado juízo procuradoria fazenda nacional . competência justiça federal . recurso conhecido , determinação remessa autos justiça federal . ( tj-sp ? ac : 10340163320178260562 sp 1034016-33.2017.8.26.0562 , relator : flávio cunha silva , data julgamento : 38ª câmara direito privado . ( grifo ) assim , requer reforma decisão entendeu remessa autos justiça comum tendo vista competência processar julgar ação justiça federal , devendo autos permanecerem esfera judiciária federal . assim sendo , observa-se exordial cuidou reunir pressupostos básicos desenvolvimento válido regular ação , , interesse agir legitimidade parte , bem prova inequívoca fatos alegados pedido possa apto apreciado nobre poder judiciário , razão faz necessária reforma r. decisão , fim reconhecer ilegitimidade passiva banco brasil legitimidade união , consequentemente , julgar processo extinto , apreciação mérito , conforme norma jurídica elencada artigo 485 , inciso vi , código processo civil , face desta casa bancária . 3.2 ? negativa vigência arts . 7º , §6º 10º , parágrafo único decreto lei 4.751/2003 ( revogado decreto lei 9978/2019 ) primeiramente , cumpre banco recorrente esclarecer aplicação decreto revogado 4.751/03 detrimento daquele entrou vigor 20 agosto 2019 ( decreto 9.978 ) dá única exclusivamente base princípio tempus regit actum , , norma posterior influenciará relação firmada época lei anterior , revogada , visando assegurar segurança jurídica estabelecida eficácia , tempo modo anteriormente previstos ? superados ? lei posterior . partindo desta premissa , acórdão vergastado , reconhecer legitimidade banco brasil compor polo passivo lide , consequentemente , ilegitimidade união responder fatos narrados peça exordial , negou vigência legislação aplicável contas vinculadas fundo pasep , passo banco brasil apenas executa normas provenientes conselho diretor pis/pasep , , fato , compete gerência citado fundo , termos artigo 7º , §4º parágrafo único artigo 10 , todos decreto n . 4.751 , 17 julho 2003. vejamos : art . 7º - pis pasep gerido conselho diretor , órgão colegiado constituído sete membros efetivos suplentes igual número , mandatos dois anos , designados ministério estado fazenda , seguinte página 12 17 composição . § 4º - conselho diretor coordenado representante secretaria tesouro nacional . art . 10º - omissis . parágrafo único . banco brasil exercerá atribuições previstas neste artigo acordo normas , diretrizes critérios estabelecidos conselho diretor pis pasep , observância lei complementar 26 , 1975 , disposições deste decreto . instituição financeira , ora recorrente , penas segue normas estabelecidas legislação regulamentadora fundo pasep , modo conselho diretor instituído ministério estado fazenda órgão delibera sobre cálculo atualização monetária saldo credor contas individuais participantes , inclusive , resolve casos omissos quanto pedidos saques quotas pis pasep . ademais , representação citado conselho juízo , teor dispõe §6º artigo 7º decreto 4.751/03 , competência atribuída fazenda nacional : art . 7º . omissis § 6º - conselho diretor fica investido representação ativa passiva pis pasep , representado defendido juízo procurador fazenda nacional . ínclitos ministros , corte sedimentou entendimento sobre ilegitimidade banco brasil om relação questão fundo pis pasep , editando , assim súmula 77 , dispõe : ? caixa econômica federal parte ilegítima figurar polo passivo ações relativas contribuições fundo pispasep ? . enunciado faz distinção discussão relação má gestão ente financeiro reclamação trazida conhecimento poder judiciário elo beneficiário incutida insuficiência saldo saldo irrisório momento saque , implicando correção monetária fundo aplicada forma incorreta atribuindo responsabilidade banco brasil . banco recorrente , assim caixa econômica federal , papel mero administrador fundo governamental , modo entendimento encravada súmula 77 aplicada maneira análoga favor , reconhecendo-se , consequentemente , ilegitimidade compor figurar polo passivo qualquer demanda causa pedir saldo irrisório fundo pasep , conforme exaustivamente exposto , responsabilidade conselho página 13 17 diretor vinculado união federal . decreto 4.751/03 expõe forma clara atribuições conselho diretor , bem competência banco brasil quanto fundo pasep , sendo obrigação correção monetária valores , sim somente manter contas individuais , processar solicitações saques fornecer , sempre solicitado conselho diretor , documentos relativos repasses recursos . portanto , evidente acórdão guerreado negou vigência artigo 7º , §4º parágrafo único artigo 10 decreto 4.751/2003 , sendo certo reforma medida impõe , extinção processo termos artigo 485 , vi código processo civil . 3.3 - violação artigo 4º lei complementar 26/1975 importante ressaltar nítida impossibilidade jurídica pedido aventado autos , autorização expressa realização pagamento rendimentos , senão vejamos : certo parte referente rendimentos anuais pagos reduzem saldo antes saque final , assim eventual saque total motivo aposentadoria , caso autos . corroborando exposto acima , importante verificar 5ª turma especializada tribunal regional federal 2ª região observou autorização expressa realização pagamento rendimentos conforme artigo 4º-a lei complementar 26/1975 : art . 4º-a . caixa econômica federal banco brasil s.a. ficam autorizados disponibilizar saldo conta individual participante pis/pasep folha pagamento mediante crédito automático conta depósito , conta-poupança outro arranjo pagamento titularidade participante , enquadrado hipóteses normativas saque prévia manifestação contrária . ( redação dada lei 13.677 , 2018 ) desta feita presente requerer reforma acórdão proferido diante clara afronta lei complementar 26/1975 . 3.4 - cotejo analítico termos art . 105 , iii alínea ? c ? constituição federal prejuízo violação artigos lei amplamente discutidos acima , acórdão recorrido divergiu arestos proferidos perante egrégios tribunais justiça estados paulo mato grosso sul ( apelação 1034016-33.2017.8.26.0562 agravo instrumento 1414475-39.2018.8.12.0000 - docs . anexo ) demonstrando claro cristalino dissídio jurisprudencial . acórdão objeto irresignação presente recurso especial fundamentação ponderou quanto ilegitimidade banco brasil , concluiu : página 14 17 ( ... ) ? considerando pedido formulado parte autora face união trata condenação suposta responsabilidade falha serviço imputada banco brasil s/a , ente federal possui legitimidade passiva relação tal pedido , merece re- forma decisão excluiu união lide , consequente remessa autos justiça estadual. ? vez aresto proferido autos recurso apelação 1034016- 33.2017.8.26.0562 ( acórdão 2019.0000148165 ? tj/sp ) relator consignou : ? cabe , primeiramente , esclarecer entendimento adotado majoritariamente est inclina sentido banco réu parte ilegítima figurar polo passivo demanda , pois tange administração contas individuais pasep , trata-se mero prestador serviços , recebendo comissão . parte ilegítima compor polo passivo ações união , pois patrimônio fundo participação pis/pasep regido conselho diretor , cujos membros designados ministério fazenda , competência calcular correção monetária sobre saldo credor contas vinculadas participantes , bem percentual juros incidentes , qualquer participação banco brasil s/a . tal fato atrai competência julgamento justiça federal . união parte legitima compor polo passivo ações discutem contas referentes fundo participação pis/pasep , vista tal patrimônio gerido conselho diretor designado ministério fazenda ? . , claramente afasta responsabilidade legitimidade banco recorrente responder sobre quaisquer questões relativas poder ingerência conselho diretor gestor fundo pis/pasep , vez instituição financeira mera arrecadadora valores depositados conta individual . acórdão objeto presente recurso especial apenas tece considerações sobre documentação colacionada exordial sobre fatos narrados parte recorrida , questiona realização saque fundo pasep valor irrisório , , correção monetária atribuída conselho diretor questionada . vez , aresto proferido pel estado mato grosso sul , autos agravo instrumento 1414475-39.2018.8.12.0000 , relator afastou responsabilidade casa bancária recorrente responder sobre supostos valores insuficiência depósitos pasep , vejamos : ? agravante defende competência justiça estadual porque fim visado ação condenar banco brasil insuficiência depósitos pasep , página 15 17 segundo teoria asserção , condição ação analisável termos relação jurídica deduzida inicial . razão agravante . verifica-se inicial pretensão agravante resgatar valor recolhido pasep . sabe-se pasep programa instituído governo federal melhor distribuição renda pais , integrar vida trabalhador , custeio seguro- desemprego fgts programas sociais . competência justiça estadual dar-se-ia hipóteses pagamento dependentes sucessores titular , termos lei 6.858/80 , caso apreço , onde pretensão resgate titular ? . veja-se , ínclitos ministros julgadores , pacificação harmônica arestos indicados , sendo flagrante dissenso gera insegurança jurídica instituição financeira , atuante todos estados federação . resta claro consenso tribunais federação quanto fixação competência processar julgar ações envolvendo fundo pis/pasep , sendo divergência jurisprudencial cai sobre ingerência banco brasil valores depositados administração contas individuais , conforme amplamente exposto razões recursais , recai integralmente sobre conselho diretor , , responsabilidade união federal . deste modo , vez realizado cotejo analítico aresto proferido 5ª turma especializada tribunal regional federal 2ª região ( objeto razões recursais ) prolatados pel estado paulo ( acórdão 2019.0000148165 ? tj/sp ) mato grosso sul ( acórdão 2019000501 ? tj/ms ) , restam dúvidas quanto dissenso ora suscitado . assim , resta evidente divergência jurisprudencial , devendo considerado v. acórdão ateve entendimento tribunais pátrios , conforme restou demonstrado , devendo superio pronunciar sobre precedentes colacionados razões recursais , apontando firmando entendimento uníssono sobre questão . pedidos tudo quanto exposto , requer recebimento presente recurso especial termos artigo 255 § 1º regimento interno deste colendo superior tribunal justiça . requer ainda , adoção regime recursos assunto caráter repetitivo , termos artigo 1029 , §4º 1036 código processo civil , suspensão todos processos mesma temática ( pasep ? ilegitimidade banco brasil legitimidade união ) . fim , requer colenda turma conhecimento presente recurso especial , consoante permissão contida art . 105 , inciso iii , alíneas ? ? ? c ? constituição federal página 16 17 combinados art . 1.029 segs . código processo civil , sendo mérito provido , eformando-se v. acórdão proferido autos apelação epígrafe retornar status quo ante sentença extinção resolução mérito , termos artigo 485 , vi código processo civil , sendo certo acolhimento pedido recorrente fará integral tão almejada justiça . fim , requer anotado contracapa e/ou habilitação autos eletrônicos página 17 17\n",
      "Embedding: [ 1.04064234e-02  7.09883403e-03  1.61010697e-02  7.14033982e-03\n",
      "  3.82977314e-02 -2.36491673e-02 -1.55100096e-02 -1.70701668e-02\n",
      " -1.30704986e-02  7.73574971e-03 -1.78947262e-02 -4.09197472e-02\n",
      "  6.20177947e-02 -5.30756228e-02 -8.04439858e-02  1.17883459e-02\n",
      " -1.92579627e-02  4.12835665e-02 -1.22788409e-02  8.73515606e-02\n",
      "  3.20549197e-02 -7.04465806e-03 -1.57132596e-02  3.78552079e-02\n",
      "  1.58206169e-02  1.02445269e-02  5.20436047e-03  4.19564135e-02\n",
      " -3.95845883e-02 -1.35158040e-02 -2.23864987e-03 -3.00136134e-02\n",
      " -3.94421630e-02 -6.20731115e-02  3.78940292e-02 -6.82698041e-02\n",
      "  2.75792275e-02 -5.42416535e-02  6.73640370e-02  1.90257896e-02\n",
      "  2.58500837e-02 -1.07759563e-02 -8.01168084e-02  2.65741199e-02\n",
      "  4.90505882e-02 -6.43809959e-02  2.77132373e-02 -5.69354147e-02\n",
      "  9.33143310e-03  1.81629357e-03  9.46925208e-03 -1.04655333e-01\n",
      "  4.73891981e-02  1.95245091e-02 -1.98681056e-02 -3.63113056e-03\n",
      " -7.32814372e-02 -2.79600243e-03  6.33909926e-02  1.07323136e-02\n",
      "  4.79836389e-03 -4.48499918e-02  3.73688675e-02 -1.83096174e-02\n",
      "  6.89377636e-03 -2.00795550e-02  5.32055199e-02 -6.53427467e-03\n",
      "  4.32461471e-04  1.13811176e-02 -6.35359529e-03 -4.33501899e-02\n",
      "  1.82004143e-02  9.80027206e-03  2.39920011e-03  8.08508229e-03\n",
      "  5.58121130e-03 -1.34623342e-03 -6.75086956e-03  1.59551110e-02\n",
      "  3.36356349e-02 -8.81464407e-02  3.84379104e-02  4.62137610e-02\n",
      "  7.71480724e-02  5.28096221e-02 -1.77057013e-02  6.33484218e-03\n",
      "  7.38257589e-03  5.37920520e-02  8.13669339e-02  4.47545387e-03\n",
      " -1.10880248e-02  3.04828770e-02 -4.35302081e-03 -2.55615059e-02\n",
      "  2.43516709e-03  1.99852809e-02 -3.79860215e-03 -1.30243720e-02\n",
      " -2.07958985e-02  1.37938289e-02  1.13578886e-02  3.85225751e-02\n",
      "  1.17977299e-02  1.33694441e-03  3.19931246e-02 -4.32614163e-02\n",
      "  4.57042903e-02 -1.10493205e-01  4.21615876e-02 -4.09403853e-02\n",
      "  3.96628864e-02  1.66745521e-02  1.81729700e-02  3.72951515e-02\n",
      " -2.09327117e-02  5.94153628e-02 -4.98905927e-02  8.72076750e-02\n",
      "  2.80683059e-02 -3.12180147e-02 -3.01338751e-02 -6.41956134e-03\n",
      "  1.14059774e-03 -4.96006347e-02  3.88478637e-02 -2.33180635e-02\n",
      "  3.87404375e-02 -2.50692223e-03  6.08566478e-02  3.87064670e-03\n",
      "  3.97551544e-02 -1.10311825e-02 -6.96410984e-02 -1.57434605e-02\n",
      " -9.06875916e-03 -2.66795256e-03 -7.65623003e-02 -2.84163523e-02\n",
      " -1.64986346e-02  1.11417556e-02 -2.98231058e-02 -6.87934309e-02\n",
      " -2.42920518e-02  2.39473376e-02  4.31034416e-02  4.87299599e-02\n",
      "  2.14231499e-02 -5.96136339e-02  1.79035356e-03  1.09054223e-02\n",
      " -1.53305888e-01 -1.72072146e-02 -5.53753693e-03 -2.57260110e-02\n",
      "  1.41072841e-02 -1.85376257e-02 -1.06905522e-02 -6.05384335e-02\n",
      "  6.00811141e-03  5.10977805e-02  1.32480059e-02  7.40020722e-02\n",
      "  3.08269635e-04 -3.36134471e-02 -2.16885768e-02 -2.31404454e-02\n",
      "  6.05464205e-02 -2.01223269e-02  3.33066620e-02 -5.77438027e-02\n",
      "  4.41746041e-02  1.78381689e-02  3.35252099e-02 -2.45139021e-02\n",
      " -4.00425717e-02 -3.43710147e-02 -1.36723081e-02 -3.94881517e-02\n",
      "  6.52719736e-02 -2.86509674e-02  3.79910879e-02 -5.73277287e-02\n",
      " -2.46151220e-02  2.87476778e-02  3.42779569e-02  2.43703946e-02\n",
      "  7.31567387e-03  5.97224273e-02 -6.39378205e-02  1.42521439e-02\n",
      " -2.07970161e-02 -5.17651951e-03  4.00302000e-03 -5.44563215e-03\n",
      " -2.17120647e-02  3.35728154e-02 -6.00179508e-02 -7.52763152e-02\n",
      " -4.63520316e-03  1.65570658e-02  5.25260493e-02 -3.71902958e-02\n",
      "  1.43641299e-02 -4.97974418e-02  3.31002995e-02  8.02566186e-02\n",
      "  4.25060093e-02  7.20561668e-02  1.91904083e-02  2.30700225e-02\n",
      "  3.57521028e-04 -3.34149674e-02  3.88495140e-02 -1.28140789e-03\n",
      "  1.41002601e-02 -2.37872209e-02  1.72336455e-02 -6.49631210e-03\n",
      "  9.30447876e-03 -4.63424139e-02  2.33051069e-02  3.48915942e-02\n",
      " -3.97096807e-03  5.45431487e-02  1.41929323e-02 -1.74399484e-02\n",
      " -8.10552612e-02 -8.56685266e-03 -4.87201139e-02  5.85779957e-02\n",
      "  3.33487913e-02 -4.98036034e-02  4.16717343e-02  3.40657160e-02\n",
      "  2.85621658e-02  9.66816843e-02 -2.59094182e-02  1.67559311e-02\n",
      " -1.15772085e-02 -5.53736649e-03 -3.18975523e-02 -8.04515928e-02\n",
      " -1.30269108e-02 -1.40117481e-04  5.85044958e-02 -5.01354523e-02\n",
      " -4.43884777e-03 -5.94733208e-02 -4.31226986e-03  7.06746755e-03\n",
      " -1.60668939e-02  2.41306908e-02  2.42426153e-03 -1.12775257e-02\n",
      " -4.09015082e-02  5.52176265e-03  1.09932991e-03 -3.30150202e-02\n",
      " -2.34796945e-02 -6.67400211e-02 -8.56702551e-02 -1.98611952e-02\n",
      "  1.74499378e-02 -6.16591610e-02  2.37820614e-02  3.73987556e-02\n",
      "  5.60843274e-02 -5.79681918e-02  2.07761880e-02  5.07258065e-02\n",
      " -3.16141881e-02 -4.14278172e-02 -3.33326496e-02 -1.61337461e-02\n",
      " -7.89717864e-03  5.24283499e-02  8.26517120e-03 -1.84048004e-02\n",
      " -4.82665971e-02  7.34194135e-03  2.92793065e-02 -2.64041442e-02\n",
      " -2.40778495e-02  4.07038406e-02  1.32209510e-02 -1.20880203e-02\n",
      "  3.07065225e-03 -3.21735218e-02  5.04230522e-02  2.29009409e-02\n",
      "  5.24491295e-02 -9.67620872e-03 -3.73286530e-02 -1.25299934e-02\n",
      " -5.01709711e-03  4.49291319e-02 -3.19802724e-02 -2.80208904e-02\n",
      "  5.08257784e-02  1.75069571e-02 -5.48903830e-02 -8.42684880e-03\n",
      "  1.67456605e-02 -2.90970691e-02  3.46692167e-02  2.01647244e-02\n",
      " -1.86169576e-02  1.15078129e-02 -3.82553488e-02  1.90610643e-02\n",
      "  3.53600532e-02  7.68584991e-03 -1.00870552e-02  3.61226909e-02\n",
      " -4.04646285e-02  2.24103797e-02 -3.35186943e-02 -1.50756016e-02\n",
      " -4.97878641e-02 -2.46196035e-02 -3.36881019e-02  5.81463892e-03\n",
      " -1.10272430e-02  4.62543964e-02  3.16124149e-02  1.54992472e-02\n",
      " -5.86711094e-02 -3.29547711e-02 -5.19020334e-02 -6.61178976e-02\n",
      " -4.25224192e-02 -1.00936706e-03 -2.23794915e-02  1.38657857e-02\n",
      "  5.14004892e-03 -8.40323337e-04 -4.75005172e-02  1.56505331e-02\n",
      " -5.72386011e-02  5.87297045e-02 -3.38339270e-03  1.92835778e-02\n",
      " -2.18543075e-02 -2.17898879e-02  1.44158090e-02 -2.97675701e-03\n",
      "  5.09857666e-03  1.60985570e-02 -2.00756881e-02  6.28547091e-03\n",
      "  3.60220410e-02 -3.68620381e-02  2.51146331e-02 -8.81580636e-03\n",
      " -3.59356925e-02 -8.86245966e-02  2.06078924e-02 -1.55704340e-03\n",
      "  4.02745865e-02 -1.92918666e-02  3.22058648e-02  4.94854786e-02\n",
      "  2.89993174e-02  2.86870375e-02 -3.11579481e-02 -6.47670999e-02\n",
      " -6.70948401e-02 -2.04612520e-02 -2.11273972e-02 -2.02116892e-02\n",
      " -4.61451374e-02 -2.40483414e-03  7.63731524e-02 -3.22725698e-02\n",
      "  6.65888563e-02 -3.14313988e-03  2.67969314e-02 -1.88556761e-02\n",
      "  3.49055715e-02 -3.00073363e-02  8.89134258e-02  9.31190036e-04\n",
      " -1.72560848e-02 -4.92238905e-03  5.03362855e-03 -2.73509677e-02\n",
      "  7.16889128e-02  2.29214299e-02 -3.90199799e-04  5.46122789e-02\n",
      "  1.32696435e-03 -2.14224402e-02 -5.70430458e-02 -1.59113389e-02\n",
      " -5.31742349e-03  3.61806639e-02 -2.33151577e-02 -3.71238892e-03\n",
      "  1.60846813e-03  5.54168299e-02 -1.04983635e-02 -1.02192592e-02\n",
      " -5.47269545e-02 -3.36854011e-02 -4.24288847e-02  4.00350094e-02\n",
      " -8.06753784e-02 -4.29416709e-02  3.69397476e-02  3.51359248e-02\n",
      "  2.86620650e-02 -2.55677179e-02  5.02950884e-02 -1.71130020e-02\n",
      "  7.66633451e-02  3.55131105e-02 -8.62665102e-03  1.57263987e-02\n",
      " -3.34156677e-03 -6.18511857e-03 -3.67377810e-02  1.43200578e-02\n",
      " -3.72568592e-02  3.23549472e-02  1.93197501e-03  3.17226313e-02\n",
      "  7.08894432e-02  9.91090783e-04  1.80540103e-02  9.75263584e-03\n",
      " -6.69154618e-03 -1.25530297e-02 -5.25522195e-02  2.92034801e-02\n",
      "  6.65204749e-02  1.55102555e-02 -2.29146704e-02  1.42407883e-02\n",
      "  3.76818771e-03 -5.19416817e-02  2.27077622e-02  7.78227486e-03\n",
      " -5.64169418e-03 -2.23432314e-02  1.64563879e-02 -4.83300798e-02\n",
      " -3.70506160e-02 -5.26307663e-03 -5.43236621e-02 -6.76751509e-02\n",
      " -4.26248983e-02 -4.53050099e-02  2.40631886e-02 -8.81829578e-03\n",
      "  6.43965229e-02  7.22375661e-02  6.40291860e-03  1.59556251e-02\n",
      " -5.62442392e-02  2.73077167e-03 -3.75106819e-02  3.42822596e-02\n",
      " -4.57620323e-02 -1.93793979e-03 -1.74207352e-02 -5.38239554e-02\n",
      "  1.01288231e-02 -1.59260426e-02  1.63917355e-02  1.79997068e-02\n",
      "  3.54180895e-02  2.86716558e-02 -2.45400779e-02 -4.36105765e-02\n",
      " -1.69670023e-02 -6.31836131e-02 -1.90181825e-02 -3.81851420e-02\n",
      " -2.07545832e-02  3.11507974e-02  2.23386735e-02  6.76979776e-03\n",
      " -7.68234730e-02 -2.09685154e-02 -3.49601507e-02  6.08146004e-02\n",
      "  3.19078751e-02  4.21314128e-02 -6.21713512e-03  6.79429853e-03\n",
      " -3.78473476e-02 -5.57735190e-03  9.47882328e-03 -2.08929405e-02\n",
      " -9.44338739e-02  3.00149918e-02  1.04414895e-02 -6.25145137e-02\n",
      " -6.49299938e-03 -8.95774644e-03 -2.35389285e-02  2.03051586e-02\n",
      " -2.42126938e-02  1.71387196e-02 -8.26481730e-02  2.60978341e-02\n",
      " -8.25120658e-02  3.76807638e-02  4.95575042e-03 -1.82816747e-03]\n",
      "\n",
      "Dimensões do embedding: 512\n",
      "\n"
     ]
    }
   ],
   "source": [
    "#Verifica saida do SBERT\n",
    "#for sentence,embedding in zip(docs[:iteracoes],embeddings[:iteracoes]):\n",
    "    #print(\"Sentence:\", sentence)\n",
    "    #print(\"Embedding:\", embedding)\n",
    "    #print(\"\\nDimensões do embedding:\", len(embedding))\n",
    "    #print(\"\")"
   ]
  },
  {
   "cell_type": "code",
   "execution_count": null,
   "id": "c0279a3d-9f25-494c-9605-95c81d0498fc",
   "metadata": {},
   "outputs": [],
   "source": [
    "topic_info=topic_model.get_topic_info()"
   ]
  },
  {
   "cell_type": "code",
   "execution_count": null,
   "id": "80acfb98-b135-449b-ac70-a6cff200a986",
   "metadata": {},
   "outputs": [],
   "source": [
    "representacao = topic_model.get_document_info(docs)"
   ]
  },
  {
   "cell_type": "code",
   "execution_count": null,
   "id": "144ace44-8f95-46db-b9fd-312afecaddc8",
   "metadata": {},
   "outputs": [],
   "source": [
    "print(representacao)\n"
   ]
  },
  {
   "cell_type": "code",
   "execution_count": null,
   "id": "2e5fd974-11c7-4e07-84ef-bbb5f0c9b2ee",
   "metadata": {},
   "outputs": [],
   "source": [
    "features = topic_model.vectorizer_model.get_feature_names()"
   ]
  },
  {
   "cell_type": "code",
   "execution_count": null,
   "id": "9123d62b-9ef0-46b5-bf7b-208c20653a45",
   "metadata": {},
   "outputs": [],
   "source": [
    "print(features)"
   ]
  },
  {
   "cell_type": "code",
   "execution_count": null,
   "id": "c2fd6ffd-0ac7-4df4-a88b-9e6e8ffd545c",
   "metadata": {},
   "outputs": [],
   "source": [
    "fig = topic_model.visualize_term_rank(log_scale=True)\n",
    "fig.write_html(\"grafico_topicos.html\")"
   ]
  },
  {
   "cell_type": "code",
   "execution_count": null,
   "id": "2671f6c3-229e-44e4-9db5-6ab141df592e",
   "metadata": {},
   "outputs": [],
   "source": [
    "bertopic_unsupervised = pd.DataFrame()"
   ]
  },
  {
   "cell_type": "code",
   "execution_count": null,
   "id": "c24e346e-5582-4586-a949-5c3f5068265c",
   "metadata": {},
   "outputs": [],
   "source": [
    "bertopic_unsupervised[\"indice\"]=indice\n",
    "bertopic_unsupervised[\"num_tema_cadastrado\"]=num_cadastrado\n",
    "bertopic_unsupervised[\"recurso\"]=docs\n",
    "bertopic_unsupervised[\"topicos\"]=representacao['Top_n_words']"
   ]
  },
  {
   "cell_type": "code",
   "execution_count": null,
   "id": "3994b40e-1ca5-4ed2-8898-1ca3ae78e654",
   "metadata": {},
   "outputs": [],
   "source": [
    "print(bertopic_unsupervised)"
   ]
  },
  {
   "cell_type": "code",
   "execution_count": null,
   "id": "cced8dee-e148-488a-a955-ae962d99eb8b",
   "metadata": {},
   "outputs": [],
   "source": [
    "#Salva em arquivo os textos com topicos principais extraidos e numeros de temas reais cadastrados\n",
    "file = 'bertopic_nao_supervisionado.csv'\n",
    "bertopic_unsupervised.to_csv(file,index=False)"
   ]
  },
  {
   "cell_type": "code",
   "execution_count": null,
   "id": "01312469-77e0-43d7-96a6-b680a7383338",
   "metadata": {},
   "outputs": [],
   "source": [
    "def read_text(dataframe, linha, coluna):\n",
    "    texto = dataframe.at[linha, coluna]\n",
    "    return texto"
   ]
  },
  {
   "cell_type": "code",
   "execution_count": null,
   "id": "b36b2566-97ac-4140-9a1f-c07fd4d3d402",
   "metadata": {},
   "outputs": [],
   "source": [
    "def sort_list(lista):\n",
    "    return(sorted(lista, key = lambda x: x[1],reverse=True))"
   ]
  },
  {
   "cell_type": "code",
   "execution_count": null,
   "id": "a1b4e631-a9b4-4004-9f3a-e819fc9373ca",
   "metadata": {},
   "outputs": [],
   "source": [
    "\n",
    "def calc_similarity(topics, temas ,k,tema_real):\n",
    "  lista_similaridade = []\n",
    "  lista_tema_real = []\n",
    "  \n",
    "  for indice, tupla_num_tema in enumerate(temas):\n",
    "      query_embedding = sentence_model.encode(topics)\n",
    "      #print(f\"Tema {indice} : {tupla_num_tema[0]}\")\n",
    "      tema_cleaned = clean_text(tupla_num_tema[0])\n",
    "      text_embedding = sentence_model.encode(tema_cleaned)\n",
    "      tensor_similaridade = util.cos_sim(query_embedding, text_embedding)\n",
    "      valor_similaridade = tensor_similaridade.item()\n",
    "      tupla = (tupla_num_tema[1],valor_similaridade)\n",
    "      lista_similaridade.append(tupla)\n",
    "\n",
    "  sorted_list = sort_list(lista_similaridade)\n",
    "  for i, linha in enumerate(sorted_list):\n",
    "      if(linha[0]==tema_real):\n",
    "        lista_tema_real.append(i+1)#identifica posição do tema real no ranking\n",
    "        lista_tema_real.append(linha[1]) \n",
    "        break\n",
    "  ranking = sorted_list[:k]\n",
    "  return ranking,lista_tema_real"
   ]
  },
  {
   "cell_type": "code",
   "execution_count": null,
   "id": "631785f2-41ec-4169-9c0d-fb3364f77a1b",
   "metadata": {},
   "outputs": [],
   "source": [
    "def create_columns(k):\n",
    "  #k refere-se ao numero de elementos no ranking\n",
    "  colunas = []\n",
    "  colunas.append(\"indice\")\n",
    "  colunas.append(\"num_tema_cadastrado\")\n",
    "  for i in range(1, k + 1):\n",
    "    nome = f\"sugerido_{i}\"\n",
    "    colunas.append(nome)\n",
    "    nome = f\"similaridade_{i}\"\n",
    "    colunas.append(nome)\n",
    "  colunas.append(\"posicao_tema_real\")\n",
    "  colunas.append(\"similaridade_tema_real\")\n",
    "  return colunas\n"
   ]
  },
  {
   "cell_type": "code",
   "execution_count": null,
   "id": "b4bdfb54-0b68-4fe5-a37e-c623956b7caf",
   "metadata": {},
   "outputs": [],
   "source": [
    "#Cria dataframe pra armazenar dados sobre textos classificados\n",
    "nomes_colunas = create_columns(6)\n",
    "resp_classificados = pd.DataFrame(columns=nomes_colunas)\n",
    "#Cria arquivo pra armazenar resultados\n",
    "#resp_classificados.to_csv('resp_classif_bertopic_unsuperv.csv', index=False)\n",
    "resp_classificados.to_csv('resp_classificado_bertopic_cos_0005.csv', index=False)\n"
   ]
  },
  {
   "cell_type": "code",
   "execution_count": null,
   "id": "25696541-8b19-4424-87e8-d43f348bf1e4",
   "metadata": {},
   "outputs": [],
   "source": [
    "#passa topicos de cada documento e lista de temas\n",
    "for indice, linha in bertopic_unsupervised.iterrows():\n",
    "  dados = []\n",
    "  dados.append(indice)\n",
    "  #numero do tema cadastrado por um analista\n",
    "  try:\n",
    "      dados.append(int(linha['num_tema_cadastrado']))\n",
    "  except Exception as erro:\n",
    "      print(f\"Erro ao capturar numero de tema cadastrado {indice}\")\n",
    "      continue\n",
    "  \n",
    "  try:\n",
    "    #retira hifen entre as palavras dos topicos\n",
    "      topicos = linha['topicos'].replace(\"-\",\"\")    \n",
    "      ranking , lista_tema_real = calc_similarity(topicos, list_temas, 6, linha['num_tema_cadastrado'])\n",
    "  except Exception as erro:\n",
    "      print(f\"Erro calculo similaridade indice {indice}\") \n",
    "      continue\n",
    "  for i, tupla_num_tema in enumerate(ranking):\n",
    "    #captura numero do tema sugerido e valor da similaridade\n",
    "    dados.append(tupla_num_tema[0])\n",
    "    dados.append(tupla_num_tema[1])\n",
    "  \n",
    "  if(lista_tema_real):\n",
    "    dados.append(lista_tema_real[0])\n",
    "    dados.append(lista_tema_real[1])\n",
    "  else:\n",
    "    dados.append(\"NA\")\n",
    "    dados.append(\"NA\")\n",
    "  #with open('resp_classif_bertopic_unsuperv.csv', mode='a', newline='') as arquivo:\n",
    "  with open('resp_classificado_bertopic_cos_0005.csv', mode='a', newline='') as arquivo:\n",
    "    writer = csv.writer(arquivo)\n",
    "    writer.writerow(dados)"
   ]
  },
  {
   "cell_type": "code",
   "execution_count": null,
   "id": "82d0f2d5-00c4-413e-bd06-81ca7d4fe7d2",
   "metadata": {},
   "outputs": [],
   "source": [
    "#Salva modelo\n",
    "topic_model.save(\"is_notes/my_model_bertopic.pt\", serialization=\"pytorch\", save_ctfidf=True, save_embedding_model=embedding_model)\n"
   ]
  },
  {
   "cell_type": "code",
   "execution_count": null,
   "id": "55b4486d-ef05-4964-8eda-dcd1926f1840",
   "metadata": {},
   "outputs": [],
   "source": []
  }
 ],
 "metadata": {
  "kernelspec": {
   "display_name": "Python 3 (ipykernel)",
   "language": "python",
   "name": "python3"
  },
  "language_info": {
   "codemirror_mode": {
    "name": "ipython",
    "version": 3
   },
   "file_extension": ".py",
   "mimetype": "text/x-python",
   "name": "python",
   "nbconvert_exporter": "python",
   "pygments_lexer": "ipython3",
   "version": "3.10.5"
  }
 },
 "nbformat": 4,
 "nbformat_minor": 5
}
