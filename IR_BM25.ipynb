{
 "cells": [
  {
   "cell_type": "code",
   "execution_count": null,
   "id": "8a0cde5f-21ca-4b98-b5fe-1e07b02c49f9",
   "metadata": {},
   "outputs": [],
   "source": [
    "!pip install rank_bm25"
   ]
  },
  {
   "cell_type": "code",
   "execution_count": null,
   "id": "f97ae980-a263-42f8-ad2c-b38800f640c8",
   "metadata": {},
   "outputs": [],
   "source": [
    "!pip install --upgrade numexpr"
   ]
  },
  {
   "cell_type": "code",
   "execution_count": null,
   "id": "bcee72ff-7f47-4efb-a158-4dceb2b731ef",
   "metadata": {},
   "outputs": [],
   "source": [
    "from rank_bm25 import BM25Okapi\n",
    "import csv\n",
    "import pandas as pd\n",
    "import string\n"
   ]
  },
  {
   "cell_type": "code",
   "execution_count": null,
   "id": "909eef76-30c1-4967-ae3c-dbfd7f9343e4",
   "metadata": {},
   "outputs": [],
   "source": [
    "recurso_topicos = pd.read_csv('bertopic_nao_supervisionado.csv')"
   ]
  },
  {
   "cell_type": "markdown",
   "id": "84495a98-1d36-4bee-86d3-3bfae92f1aeb",
   "metadata": {
    "id": "ho2P0r4xD0MC"
   },
   "source": [
    "## **Prepara corpus de temas repetitivos e inicia BM25**\n"
   ]
  },
  {
   "cell_type": "code",
   "execution_count": null,
   "id": "6ce3f579-b1a5-49c7-8bf5-81b82b0776d0",
   "metadata": {},
   "outputs": [],
   "source": [
    "def remove_punctuation(text):\n",
    "    translator = str.maketrans('', '', string.punctuation)\n",
    "    text_without_punctuation = text.translate(translator)\n",
    "    return text_without_punctuation"
   ]
  },
  {
   "cell_type": "code",
   "execution_count": null,
   "id": "cfdc833a-8d81-48d1-afdb-991e9d00d484",
   "metadata": {},
   "outputs": [],
   "source": [
    "temas_repetitivos = pd.read_csv('temas_repetitivos.csv', sep=',' )\n",
    "corpus = []\n",
    "for indice, linha in temas_repetitivos.iterrows():\n",
    "    temas = linha['tema']\n",
    "    tema_clean = remove_punctuation(temas)\n",
    "    corpus.append(tema_clean)\n",
    "    \n",
    "tokenized_corpus = [doc.split(\" \") for doc in corpus]\n",
    "\n",
    "bm25 = BM25Okapi(tokenized_corpus)"
   ]
  },
  {
   "cell_type": "code",
   "execution_count": null,
   "id": "81a7e003-dd83-4411-a460-1c0e33a444a5",
   "metadata": {},
   "outputs": [],
   "source": [
    "def sort_list(lista):\n",
    "    return(sorted(lista, key = lambda x: x[1],reverse=True))"
   ]
  },
  {
   "cell_type": "code",
   "execution_count": null,
   "id": "7bc9e6d7-a449-44e1-8eb0-79ccfa9c6ec8",
   "metadata": {},
   "outputs": [],
   "source": [
    "\n",
    "def create_list_similarity_bm25(temas ,k,tema_real):\n",
    "  lista_similaridade = temas\n",
    "  lista_tema_real = []\n",
    "\n",
    "  sorted_list = sort_list(lista_similaridade)\n",
    "\n",
    "  for i, linha in enumerate(sorted_list):\n",
    "      if(linha[0]==tema_real):\n",
    "        lista_tema_real.append(i+1)#identifica posição do tema real no ranking\n",
    "        lista_tema_real.append(linha[1])#similaridade do tema real segundo bm25\n",
    "        break\n",
    "  ranking = sorted_list[:k]\n",
    "  return ranking,lista_tema_real"
   ]
  },
  {
   "cell_type": "code",
   "execution_count": null,
   "id": "9fa4afc7-1800-4628-bdc6-11175eedae23",
   "metadata": {},
   "outputs": [],
   "source": [
    "def create_columns(k):\n",
    "  #k refere-se ao numero de elementos no ranking\n",
    "  colunas = []\n",
    "  colunas.append(\"indice\")\n",
    "  colunas.append(\"num_tema_cadastrado\")\n",
    "  for i in range(1, k + 1):\n",
    "    nome = f\"sugerido_{i}\"\n",
    "    colunas.append(nome)\n",
    "    nome = f\"similaridade_{i}\"\n",
    "    colunas.append(nome)\n",
    "  colunas.append(\"posicao_tema_real\")\n",
    "  colunas.append(\"similaridade_tema_real\")\n",
    "  return colunas"
   ]
  },
  {
   "cell_type": "code",
   "execution_count": null,
   "id": "4c1b578a-d039-4e05-a7d9-4b32380ef494",
   "metadata": {},
   "outputs": [],
   "source": [
    "def calc_scores_bm25(topico):\n",
    "    query = topico.replace(\"-\",\"\")\n",
    "    tokenized_query = query.split()\n",
    "    doc_scores = bm25.get_scores(tokenized_query)\n",
    "    return doc_scores"
   ]
  },
  {
   "cell_type": "markdown",
   "id": "566215a4-5f05-41ec-944f-845de9416d23",
   "metadata": {
    "id": "ho2P0r4xD0MC"
   },
   "source": [
    "## **Armazenamento de dados classificados**"
   ]
  },
  {
   "cell_type": "code",
   "execution_count": null,
   "id": "686d6940-e324-4255-974c-5a1014f3ecfe",
   "metadata": {},
   "outputs": [],
   "source": [
    "#Cria dataframe pra armazenar dados sobre textos classificados\n",
    "nomes_colunas = create_columns(6)\n",
    "resp_classificados_bertopic_bm25 = pd.DataFrame(columns=nomes_colunas)\n",
    "#Cria arquivo pra armazenar resultados\n",
    "resp_classificados_bertopic_bm25.to_csv('resp_classificados_bertopic_bm25.csv', index=False)"
   ]
  },
  {
   "cell_type": "code",
   "execution_count": null,
   "id": "60e460c1-e2ea-4ab1-b0bf-52fb581f90a4",
   "metadata": {},
   "outputs": [],
   "source": [
    "#print(recurso_topicos.iloc[0]['topicos'].replace(\"-\",\"\"))\n",
    " "
   ]
  },
  {
   "cell_type": "code",
   "execution_count": null,
   "id": "ee3ed3b5-3a9e-414a-91c5-0e4ed6c65e73",
   "metadata": {},
   "outputs": [],
   "source": [
    "#Tratamento topicos de cada documento e lista de temas\n",
    "for indice, linha in recurso_topicos.iterrows():\n",
    "  #calcula score bm25\n",
    "  doc_scores = calc_scores_bm25(linha['topicos'])\n",
    "  \n",
    "  #Cria lista de tuplas com numeração do tema e valor de similaridade\n",
    "  temas_classificados = temas_repetitivos[['num_tema_cadastrado']].copy()\n",
    "  temas_classificados['similaridade']=doc_scores\n",
    "  temas_classificados.columns = ['numTema','similaridade']\n",
    "  list_temas_classificados = list(temas_classificados.itertuples(index=False, name=None))\n",
    "\n",
    "  dados = []\n",
    "  dados.append(indice)\n",
    "  #numero do tema cadastrado por um analista\n",
    "  try:\n",
    "      #numeracao de tema cadastrado pelo analista para o recurso\n",
    "      dados.append(int(linha['num_tema_cadastrado']))\n",
    "  except Exception as erro:\n",
    "      print(f\"Erro ao capturar numero de tema cadastrado {indice}\")\n",
    "      continue\n",
    "  \n",
    "  try:  \n",
    "      ranking , lista_tema_real = create_list_similarity_bm25( list_temas_classificados, 6, linha['num_tema_cadastrado'])\n",
    "  except Exception as erro:\n",
    "      print(f\"Erro calculo similaridade indice {indice}\") \n",
    "      continue\n",
    "  for i, tupla_num_tema in enumerate(ranking):\n",
    "    #captura numero do tema sugerido e valor da similaridade\n",
    "    dados.append(tupla_num_tema[0])\n",
    "    dados.append(tupla_num_tema[1])\n",
    "  \n",
    "  if(lista_tema_real):\n",
    "    dados.append(lista_tema_real[0])\n",
    "    dados.append(lista_tema_real[1])\n",
    "  else:\n",
    "    dados.append(\"NA\")\n",
    "    dados.append(\"NA\")\n",
    "  #with open('resp_classif_bertopic_unsuperv.csv', mode='a', newline='') as arquivo:\n",
    "  with open('resp_classificados_bertopic_bm25.csv', mode='a', newline='') as arquivo:\n",
    "    writer = csv.writer(arquivo)\n",
    "    writer.writerow(dados)"
   ]
  },
  {
   "cell_type": "code",
   "execution_count": null,
   "id": "0bbcef5c-80f5-4ed3-976c-42fd281410f6",
   "metadata": {},
   "outputs": [],
   "source": [
    "#print(tokenized_query)"
   ]
  },
  {
   "cell_type": "code",
   "execution_count": null,
   "id": "b52a2f1b-7041-427a-b93f-1da583e110cf",
   "metadata": {},
   "outputs": [],
   "source": [
    "\n",
    "#bm25.get_top_n(tokenized_query, corpus, n=1)"
   ]
  },
  {
   "cell_type": "code",
   "execution_count": null,
   "id": "63d19990-27f7-49e5-8fa8-50a02076deb1",
   "metadata": {},
   "outputs": [],
   "source": [
    "#print(doc_scores)"
   ]
  },
  {
   "cell_type": "code",
   "execution_count": null,
   "id": "e57f506e-50d7-4635-acc7-091b63323814",
   "metadata": {},
   "outputs": [],
   "source": []
  },
  {
   "cell_type": "code",
   "execution_count": null,
   "id": "329f1f8c-9d22-409e-b9cb-2755c07fd55f",
   "metadata": {},
   "outputs": [],
   "source": []
  }
 ],
 "metadata": {
  "kernelspec": {
   "display_name": "Python 3 (ipykernel)",
   "language": "python",
   "name": "python3"
  },
  "language_info": {
   "codemirror_mode": {
    "name": "ipython",
    "version": 3
   },
   "file_extension": ".py",
   "mimetype": "text/x-python",
   "name": "python",
   "nbconvert_exporter": "python",
   "pygments_lexer": "ipython3",
   "version": "3.10.5"
  }
 },
 "nbformat": 4,
 "nbformat_minor": 5
}
